version https://git-lfs.github.com/spec/v1
oid sha256:df47f5445c9cb24ae9370a94cb01f11cdacd18d0238039b1e2ce519fa2d196db
size 288353
